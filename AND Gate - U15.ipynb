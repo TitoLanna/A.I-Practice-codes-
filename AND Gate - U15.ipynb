{
 "cells": [
  {
   "cell_type": "code",
   "execution_count": 1,
   "id": "0ed505bb",
   "metadata": {},
   "outputs": [],
   "source": [
    "import pandas as pd\n",
    "w1 = 1\n",
    "w2 = 1\n",
    "b = -1.5\n",
    "\n",
    "\n",
    "inputs = [(0, 0), (0, 1), (1, 0), (1,1)]\n",
    "correct_outputs = [0, 0, 0, 1]\n",
    "outputs = []\n"
   ]
  },
  {
   "cell_type": "code",
   "execution_count": 2,
   "id": "6eb33c96",
   "metadata": {},
   "outputs": [
    {
     "name": "stdout",
     "output_type": "stream",
     "text": [
      "All correct\n",
      " Input 1  Input 2    z  Out Is Correct?\n",
      "       0        0 -1.5    0         Yes\n",
      "       0        1 -0.5    0         Yes\n",
      "       1        0 -0.5    0         Yes\n",
      "       1        1  0.5    1         Yes\n"
     ]
    }
   ],
   "source": [
    "for input, correct_output in zip(inputs, correct_outputs):\n",
    "    z = input[0]*w1+input[1]*w2 + b\n",
    "    output = int(z >= 0)\n",
    "    is_correct = 'Yes' if output == correct_output else 'No'\n",
    "    outputs.append([input[0], input[1], z, output, is_correct])\n",
    "    \n",
    "num_wrong = len([output[4] for output in outputs if output[4]=='No'])\n",
    "\n",
    "output_df = pd.DataFrame(outputs, columns=['Input 1', 'Input 2', 'z', 'Out', 'Is Correct?'])\n",
    "\n",
    "if not num_wrong:\n",
    "    print(\"All correct\")\n",
    "else:\n",
    "    print(\"You get \", num_wrong,\" wrong.\")\n",
    "    \n",
    "print(output_df.to_string(index=False))"
   ]
  },
  {
   "cell_type": "code",
   "execution_count": 8,
   "id": "12e01feb",
   "metadata": {},
   "outputs": [
    {
     "data": {
      "text/html": [
       "<div>\n",
       "<style scoped>\n",
       "    .dataframe tbody tr th:only-of-type {\n",
       "        vertical-align: middle;\n",
       "    }\n",
       "\n",
       "    .dataframe tbody tr th {\n",
       "        vertical-align: top;\n",
       "    }\n",
       "\n",
       "    .dataframe thead th {\n",
       "        text-align: right;\n",
       "    }\n",
       "</style>\n",
       "<table border=\"1\" class=\"dataframe\">\n",
       "  <thead>\n",
       "    <tr style=\"text-align: right;\">\n",
       "      <th></th>\n",
       "      <th>Input 1</th>\n",
       "      <th>Input 2</th>\n",
       "      <th>z</th>\n",
       "      <th>Out</th>\n",
       "      <th>Is Correct?</th>\n",
       "    </tr>\n",
       "  </thead>\n",
       "  <tbody>\n",
       "    <tr>\n",
       "      <th>0</th>\n",
       "      <td>0</td>\n",
       "      <td>0</td>\n",
       "      <td>-1.5</td>\n",
       "      <td>0</td>\n",
       "      <td>Yes</td>\n",
       "    </tr>\n",
       "    <tr>\n",
       "      <th>1</th>\n",
       "      <td>0</td>\n",
       "      <td>1</td>\n",
       "      <td>-0.5</td>\n",
       "      <td>0</td>\n",
       "      <td>Yes</td>\n",
       "    </tr>\n",
       "    <tr>\n",
       "      <th>2</th>\n",
       "      <td>1</td>\n",
       "      <td>0</td>\n",
       "      <td>-0.5</td>\n",
       "      <td>0</td>\n",
       "      <td>Yes</td>\n",
       "    </tr>\n",
       "    <tr>\n",
       "      <th>3</th>\n",
       "      <td>1</td>\n",
       "      <td>1</td>\n",
       "      <td>0.5</td>\n",
       "      <td>1</td>\n",
       "      <td>Yes</td>\n",
       "    </tr>\n",
       "  </tbody>\n",
       "</table>\n",
       "</div>"
      ],
      "text/plain": [
       "   Input 1  Input 2    z  Out Is Correct?\n",
       "0        0        0 -1.5    0         Yes\n",
       "1        0        1 -0.5    0         Yes\n",
       "2        1        0 -0.5    0         Yes\n",
       "3        1        1  0.5    1         Yes"
      ]
     },
     "execution_count": 8,
     "metadata": {},
     "output_type": "execute_result"
    }
   ],
   "source": []
  },
  {
   "cell_type": "code",
   "execution_count": null,
   "id": "ab648fc1",
   "metadata": {},
   "outputs": [],
   "source": []
  }
 ],
 "metadata": {
  "kernelspec": {
   "display_name": "Python 3 (ipykernel)",
   "language": "python",
   "name": "python3"
  },
  "language_info": {
   "codemirror_mode": {
    "name": "ipython",
    "version": 3
   },
   "file_extension": ".py",
   "mimetype": "text/x-python",
   "name": "python",
   "nbconvert_exporter": "python",
   "pygments_lexer": "ipython3",
   "version": "3.9.13"
  }
 },
 "nbformat": 4,
 "nbformat_minor": 5
}
