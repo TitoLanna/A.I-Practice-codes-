{
 "cells": [
  {
   "attachments": {},
   "cell_type": "markdown",
   "metadata": {},
   "source": [
    "# Multi-Layer Perceptron"
   ]
  },
  {
   "attachments": {},
   "cell_type": "markdown",
   "metadata": {},
   "source": [
    "### Import Libraries\n"
   ]
  },
  {
   "cell_type": "code",
   "execution_count": 37,
   "metadata": {},
   "outputs": [],
   "source": [
    "import torch\n",
    "import torch.nn as nn\n",
    "import torch.optim as optim\n",
    "import torch.nn.functional as F\n",
    "from torch.utils.data import DataLoader, SubsetRandomSampler\n",
    "from torchvision import datasets, transforms\n",
    "import time\n",
    "import matplotlib.pyplot as plt\n",
    "from torch.optim import lr_scheduler\n",
    "import numpy as np"
   ]
  },
  {
   "attachments": {},
   "cell_type": "markdown",
   "metadata": {},
   "source": [
    "### Settings"
   ]
  },
  {
   "cell_type": "code",
   "execution_count": 38,
   "metadata": {},
   "outputs": [],
   "source": [
    "BATCH_SIZE = 64\n",
    "NUM_EPOCHS = 20\n",
    "DEVICE = torch.device('cuda:0' if torch.cuda.is_available() else 'cpu')"
   ]
  },
  {
   "attachments": {},
   "cell_type": "markdown",
   "metadata": {},
   "source": [
    "### Prepare the Data"
   ]
  },
  {
   "cell_type": "code",
   "execution_count": 39,
   "metadata": {},
   "outputs": [],
   "source": [
    "# Define transformations to be applied to the dataset\n",
    "transform = transforms.Compose([\n",
    "    transforms.ToTensor(),                              # Convert images to PyTorch tensors\n",
    "    transforms.Normalize((0.5,), (0.5,))               # Normalize the pixel values to a range [-1, 1]\n",
    "])\n",
    "\n",
    "# Load the training dataset with transformations applied\n",
    "train_dataset = datasets.MNIST(root='./data',         # Root directory where the dataset will be stored\n",
    "                               train=True,             # Indicate that this is the training dataset\n",
    "                               download=True,          # Download the dataset if not already downloaded\n",
    "                               transform=transform)    # Apply transformations to the dataset\n",
    "\n",
    "# Load the validation dataset with transformations applied\n",
    "valid_dataset = datasets.MNIST(root='./data',         # Root directory where the dataset will be stored\n",
    "                               train=True,             # Indicate that this is the training dataset\n",
    "                               transform=transform)    # Apply transformations to the dataset\n",
    "\n",
    "# Load the test dataset with transformations applied\n",
    "test_dataset = datasets.MNIST(root='./data',          # Root directory where the dataset will be stored\n",
    "                              train=False,             # Indicate that this is the test dataset\n",
    "                              transform=transform)     # Apply transformations to the dataset"
   ]
  },
  {
   "cell_type": "code",
   "execution_count": 40,
   "metadata": {},
   "outputs": [],
   "source": [
    "#validation_fraction is set to 0.1, indicating that 10% of the training dataset will be used for validation\n",
    "validation_fraction = 0.1\n",
    "\n",
    "num = int(validation_fraction * 60000)\n",
    "train_indices = torch.arange(0, 60000 - num)\n",
    "valid_indices = torch.arange(60000 - num, 60000)"
   ]
  },
  {
   "cell_type": "code",
   "execution_count": 41,
   "metadata": {},
   "outputs": [],
   "source": [
    "train_sampler = SubsetRandomSampler(train_indices)\n",
    "valid_sampler = SubsetRandomSampler(valid_indices)"
   ]
  },
  {
   "cell_type": "code",
   "execution_count": 42,
   "metadata": {},
   "outputs": [],
   "source": [
    "\n",
    "\n",
    "# Create a DataLoader for the training dataset\n",
    "train_loader = DataLoader(dataset=train_dataset,      # The dataset to load\n",
    "                          batch_size=BATCH_SIZE,      # Number of samples per batch\n",
    "                          drop_last=True,            # Drop the last incomplete batch if its size is less than batch_size\n",
    "                          sampler=train_sampler)     # Sampler for selecting batches\n",
    "\n",
    "# Create a DataLoader for the validation dataset\n",
    "valid_loader = DataLoader(dataset=valid_dataset,      # The dataset to load\n",
    "                          batch_size=BATCH_SIZE,      # Number of samples per batch\n",
    "                          sampler=valid_sampler)     # Sampler for selecting batches\n",
    "\n",
    "# Create a DataLoader for the test dataset\n",
    "test_loader = DataLoader(dataset=test_dataset,        # The dataset to load\n",
    "                         batch_size=BATCH_SIZE,       # Number of samples per batch\n",
    "                         shuffle=False)              # Do not shuffle the data (maintain the order)\n"
   ]
  },
  {
   "attachments": {},
   "cell_type": "markdown",
   "metadata": {},
   "source": [
    "### Data visualization"
   ]
  },
  {
   "cell_type": "code",
   "execution_count": 43,
   "metadata": {},
   "outputs": [
    {
     "name": "stdout",
     "output_type": "stream",
     "text": [
      "Image batch dimensions: torch.Size([64, 1, 28, 28])\n",
      "Image label dimensions: torch.Size([64])\n"
     ]
    }
   ],
   "source": [
    "# Checking the dataset\n",
    "for images, labels in train_loader:\n",
    "    print('Image batch dimensions:', images.shape)\n",
    "    print('Image label dimensions:', labels.shape)\n",
    "    break\n"
   ]
  },
  {
   "cell_type": "code",
   "execution_count": 44,
   "metadata": {},
   "outputs": [
    {
     "data": {
      "image/png": "[encoded data removed]",
      "text/plain": [
       "<Figure size 1000x1000 with 25 Axes>"
      ]
     },
     "metadata": {},
     "output_type": "display_data"
    }
   ],
   "source": [
    "\n",
    "# Display a grid of sample images\n",
    "plt.figure(figsize=(10, 10))\n",
    "for i, (images, labels) in enumerate(train_loader):\n",
    "    for j in range(25):\n",
    "        plt.subplot(5, 5, j + 1)\n",
    "        plt.imshow(images[j].squeeze(), cmap='gray')\n",
    "        plt.axis('off')\n",
    "    break\n",
    "plt.show()\n"
   ]
  },
  {
   "attachments": {},
   "cell_type": "markdown",
   "metadata": {},
   "source": [
    "#### Defining the layers of the neural network"
   ]
  },
  {
   "cell_type": "code",
   "execution_count": 45,
   "metadata": {},
   "outputs": [],
   "source": [
    "\n",
    "\n",
    "class MLP(nn.Module):\n",
    "    def __init__(self, num_features, num_hidden_1, num_hidden_2, num_classes):\n",
    "        super().__init__()\n",
    "        \n",
    "        # Define the layers of the neural network\n",
    "        self.network = torch.nn.Sequential(\n",
    "            # Flatten layer to convert input data into a 1D tensor\n",
    "            torch.nn.Flatten(),\n",
    "            # 1st hidden layer: Linear -> BatchNorm -> ReLU -> Dropout\n",
    "            torch.nn.Linear(num_features, num_hidden_1),    # Fully connected layer\n",
    "            torch.nn.BatchNorm1d(num_hidden_1),             # Batch normalization layer\n",
    "            torch.nn.ReLU(),                                # ReLU activation function\n",
    "            torch.nn.Dropout(0.5),                          # Dropout layer with 50% dropout rate\n",
    "            \n",
    "            # 2nd hidden layer: Linear -> BatchNorm -> ReLU -> Dropout\n",
    "            torch.nn.Linear(num_hidden_1, num_hidden_2),    # Fully connected layer\n",
    "            torch.nn.BatchNorm1d(num_hidden_2),             # Batch normalization layer\n",
    "            torch.nn.ReLU(),                                # ReLU activation function\n",
    "            torch.nn.Dropout(0.3),                          # Dropout layer with 30% dropout rate\n",
    "            \n",
    "            # Output layer: Linear\n",
    "            torch.nn.Linear(num_hidden_2, num_classes)      # Fully connected layer (output layer)\n",
    "        )\n",
    "    def forward(self, x):\n",
    "        logits = self.network(x)\n",
    "        return logits\n",
    "\n",
    "\n"
   ]
  },
  {
   "attachments": {},
   "cell_type": "markdown",
   "metadata": {},
   "source": [
    "### Initialize Model, Loss Function, Optimizer, and Scheduler"
   ]
  },
  {
   "cell_type": "code",
   "execution_count": 46,
   "metadata": {},
   "outputs": [],
   "source": [
    "# Define the MLP model\n",
    "model = MLP(num_features=28*28,     # Number of input features (28x28 pixels image)\n",
    "            num_hidden_1=128,       # Number of neurons in the first hidden layer\n",
    "            num_hidden_2=64,        # Number of neurons in the second hidden layer\n",
    "            num_classes=10)         # Number of output classes (digits 0-9)\n",
    "\n",
    "# Move the model to the specified device (e.g., GPU or CPU)\n",
    "model = model.to(DEVICE)\n",
    "\n",
    "# Define the loss function (criterion)\n",
    "criterion = nn.CrossEntropyLoss()\n",
    "\n",
    "# Define the optimizer\n",
    "# Define your optimizer (using Adam)\n",
    "optimizer = optim.Adam(model.parameters(), lr=0.001)\n",
    "# optimizer = torch.optim.SGD(model.parameters(),    # Parameters to optimize (weights and biases)\n",
    "#                             lr=0.1,                # Learning rate\n",
    "#                             momentum=0.9,          # Momentum for SGD optimizer\n",
    "#                             weight_decay=0.0001)   # L2 regularization (weight decay)\n",
    "\n",
    "# Define the learning rate scheduler\n",
    "# Create the scheduler with exponential decay\n",
    "scheduler = lr_scheduler.ExponentialLR(optimizer, gamma=0.95)\n"
   ]
  },
  {
   "attachments": {},
   "cell_type": "markdown",
   "metadata": {},
   "source": [
    "#### Training and Testing"
   ]
  },
  {
   "cell_type": "code",
   "execution_count": 47,
   "metadata": {},
   "outputs": [],
   "source": [
    "def compute_accuracy(data_loader):\n",
    "    # Disable gradient computation\n",
    "    with torch.no_grad():\n",
    "        # Initialize variables to count correct predictions and total examples\n",
    "        correct_pred, num_examples = 0, 0\n",
    "        \n",
    "        # Iterate over the data loader\n",
    "        for i, (features, targets) in enumerate(data_loader):\n",
    "            # Move features and targets to the specified device (e.g., GPU or CPU)\n",
    "            features = features.to(DEVICE)\n",
    "            targets = targets.float().to(DEVICE)\n",
    "            \n",
    "            # Forward pass: compute model predictions\n",
    "            logits = model(features)\n",
    "            \n",
    "            # Get the predicted labels by selecting the index of the maximum value in the logits\n",
    "            _, predicted_labels = torch.max(logits, 1)\n",
    "            \n",
    "            # Update the count of total examples\n",
    "            num_examples += targets.size(0)\n",
    "            \n",
    "            # Update the count of correct predictions by comparing predicted labels with targets\n",
    "            correct_pred += (predicted_labels == targets).sum()\n",
    "    \n",
    "    # Calculate the accuracy by dividing the number of correct predictions by the total number of examples\n",
    "    return correct_pred.float() / num_examples * 100\n"
   ]
  },
  {
   "cell_type": "code",
   "execution_count": 48,
   "metadata": {},
   "outputs": [
    {
     "name": "stdout",
     "output_type": "stream",
     "text": [
      "Epoch: 1/20 | Batch 0/843 | Loss: 2.5046\n",
      "Epoch: 1/20 | Batch 100/843 | Loss: 0.6279\n",
      "Epoch: 1/20 | Batch 200/843 | Loss: 0.6091\n",
      "Epoch: 1/20 | Batch 300/843 | Loss: 0.6032\n",
      "Epoch: 1/20 | Batch 400/843 | Loss: 0.4522\n",
      "Epoch: 1/20 | Batch 500/843 | Loss: 0.3503\n",
      "Epoch: 1/20 | Batch 600/843 | Loss: 0.3267\n",
      "Epoch: 1/20 | Batch 700/843 | Loss: 0.3097\n",
      "Epoch: 1/20 | Batch 800/843 | Loss: 0.2846\n",
      "Epoch: 1/20 | Train: 94.76% | Validation: 95.53%\n",
      "Epoch: 2/20 | Batch 0/843 | Loss: 0.3679\n"
     ]
    },
    {
     "name": "stderr",
     "output_type": "stream",
     "text": [
      "/Users/titolanna/anaconda3/lib/python3.10/site-packages/torch/optim/lr_scheduler.py:149: UserWarning: The epoch parameter in `scheduler.step()` was not necessary and is being deprecated where possible. Please use `scheduler.step()` to step the scheduler. During the deprecation, if epoch is different from None, the closed form is used instead of the new chainable form, where available. Please open an issue if you are unable to replicate your use case: https://github.com/pytorch/pytorch/issues/new/choose.\n",
      "  warnings.warn(EPOCH_DEPRECATION_WARNING, UserWarning)\n"
     ]
    },
    {
     "name": "stdout",
     "output_type": "stream",
     "text": [
      "Epoch: 2/20 | Batch 100/843 | Loss: 0.1921\n",
      "Epoch: 2/20 | Batch 200/843 | Loss: 0.3706\n",
      "Epoch: 2/20 | Batch 300/843 | Loss: 0.4669\n",
      "Epoch: 2/20 | Batch 400/843 | Loss: 0.2081\n",
      "Epoch: 2/20 | Batch 500/843 | Loss: 0.4406\n",
      "Epoch: 2/20 | Batch 600/843 | Loss: 0.2359\n",
      "Epoch: 2/20 | Batch 700/843 | Loss: 0.3751\n",
      "Epoch: 2/20 | Batch 800/843 | Loss: 0.3120\n",
      "Epoch: 2/20 | Train: 95.84% | Validation: 96.52%\n",
      "Epoch: 3/20 | Batch 0/843 | Loss: 0.2544\n",
      "Epoch: 3/20 | Batch 100/843 | Loss: 0.3759\n",
      "Epoch: 3/20 | Batch 200/843 | Loss: 0.2618\n",
      "Epoch: 3/20 | Batch 300/843 | Loss: 0.1872\n",
      "Epoch: 3/20 | Batch 400/843 | Loss: 0.2315\n",
      "Epoch: 3/20 | Batch 500/843 | Loss: 0.1387\n",
      "Epoch: 3/20 | Batch 600/843 | Loss: 0.3952\n",
      "Epoch: 3/20 | Batch 700/843 | Loss: 0.1599\n",
      "Epoch: 3/20 | Batch 800/843 | Loss: 0.2532\n",
      "Epoch: 3/20 | Train: 96.58% | Validation: 96.88%\n",
      "Epoch: 4/20 | Batch 0/843 | Loss: 0.6131\n",
      "Epoch: 4/20 | Batch 100/843 | Loss: 0.2080\n",
      "Epoch: 4/20 | Batch 200/843 | Loss: 0.2711\n",
      "Epoch: 4/20 | Batch 300/843 | Loss: 0.1832\n",
      "Epoch: 4/20 | Batch 400/843 | Loss: 0.1369\n",
      "Epoch: 4/20 | Batch 500/843 | Loss: 0.2086\n",
      "Epoch: 4/20 | Batch 600/843 | Loss: 0.3275\n",
      "Epoch: 4/20 | Batch 700/843 | Loss: 0.1445\n",
      "Epoch: 4/20 | Batch 800/843 | Loss: 0.1856\n",
      "Epoch: 4/20 | Train: 97.18% | Validation: 97.40%\n",
      "Epoch: 5/20 | Batch 0/843 | Loss: 0.2854\n",
      "Epoch: 5/20 | Batch 100/843 | Loss: 0.2162\n",
      "Epoch: 5/20 | Batch 200/843 | Loss: 0.1635\n",
      "Epoch: 5/20 | Batch 300/843 | Loss: 0.1364\n",
      "Epoch: 5/20 | Batch 400/843 | Loss: 0.1880\n",
      "Epoch: 5/20 | Batch 500/843 | Loss: 0.0660\n",
      "Epoch: 5/20 | Batch 600/843 | Loss: 0.2625\n",
      "Epoch: 5/20 | Batch 700/843 | Loss: 0.1775\n",
      "Epoch: 5/20 | Batch 800/843 | Loss: 0.1850\n",
      "Epoch: 5/20 | Train: 97.42% | Validation: 97.42%\n",
      "Epoch: 6/20 | Batch 0/843 | Loss: 0.1987\n",
      "Epoch: 6/20 | Batch 100/843 | Loss: 0.1379\n",
      "Epoch: 6/20 | Batch 200/843 | Loss: 0.1962\n",
      "Epoch: 6/20 | Batch 300/843 | Loss: 0.1071\n",
      "Epoch: 6/20 | Batch 400/843 | Loss: 0.1698\n",
      "Epoch: 6/20 | Batch 500/843 | Loss: 0.1125\n",
      "Epoch: 6/20 | Batch 600/843 | Loss: 0.1634\n",
      "Epoch: 6/20 | Batch 700/843 | Loss: 0.1340\n",
      "Epoch: 6/20 | Batch 800/843 | Loss: 0.1797\n",
      "Epoch: 6/20 | Train: 97.63% | Validation: 97.47%\n",
      "Epoch: 7/20 | Batch 0/843 | Loss: 0.1499\n",
      "Epoch: 7/20 | Batch 100/843 | Loss: 0.1392\n",
      "Epoch: 7/20 | Batch 200/843 | Loss: 0.2285\n",
      "Epoch: 7/20 | Batch 300/843 | Loss: 0.3452\n",
      "Epoch: 7/20 | Batch 400/843 | Loss: 0.1509\n",
      "Epoch: 7/20 | Batch 500/843 | Loss: 0.2078\n",
      "Epoch: 7/20 | Batch 600/843 | Loss: 0.1321\n",
      "Epoch: 7/20 | Batch 700/843 | Loss: 0.2130\n",
      "Epoch: 7/20 | Batch 800/843 | Loss: 0.1961\n",
      "Epoch: 7/20 | Train: 97.91% | Validation: 97.82%\n",
      "Epoch: 8/20 | Batch 0/843 | Loss: 0.1274\n",
      "Epoch: 8/20 | Batch 100/843 | Loss: 0.1723\n",
      "Epoch: 8/20 | Batch 200/843 | Loss: 0.1999\n",
      "Epoch: 8/20 | Batch 300/843 | Loss: 0.1322\n",
      "Epoch: 8/20 | Batch 400/843 | Loss: 0.1238\n",
      "Epoch: 8/20 | Batch 500/843 | Loss: 0.2362\n",
      "Epoch: 8/20 | Batch 600/843 | Loss: 0.2797\n",
      "Epoch: 8/20 | Batch 700/843 | Loss: 0.1890\n",
      "Epoch: 8/20 | Batch 800/843 | Loss: 0.3596\n",
      "Epoch: 8/20 | Train: 98.08% | Validation: 97.70%\n",
      "Epoch: 9/20 | Batch 0/843 | Loss: 0.0641\n",
      "Epoch: 9/20 | Batch 100/843 | Loss: 0.0855\n",
      "Epoch: 9/20 | Batch 200/843 | Loss: 0.3074\n",
      "Epoch: 9/20 | Batch 300/843 | Loss: 0.2356\n",
      "Epoch: 9/20 | Batch 400/843 | Loss: 0.2459\n",
      "Epoch: 9/20 | Batch 500/843 | Loss: 0.2755\n",
      "Epoch: 9/20 | Batch 600/843 | Loss: 0.1930\n",
      "Epoch: 9/20 | Batch 700/843 | Loss: 0.2761\n",
      "Epoch: 9/20 | Batch 800/843 | Loss: 0.1092\n",
      "Epoch: 9/20 | Train: 98.22% | Validation: 97.88%\n",
      "Epoch: 10/20 | Batch 0/843 | Loss: 0.0912\n",
      "Epoch: 10/20 | Batch 100/843 | Loss: 0.0658\n",
      "Epoch: 10/20 | Batch 200/843 | Loss: 0.2188\n",
      "Epoch: 10/20 | Batch 300/843 | Loss: 0.1153\n",
      "Epoch: 10/20 | Batch 400/843 | Loss: 0.2268\n",
      "Epoch: 10/20 | Batch 500/843 | Loss: 0.4199\n",
      "Epoch: 10/20 | Batch 600/843 | Loss: 0.2243\n",
      "Epoch: 10/20 | Batch 700/843 | Loss: 0.1663\n",
      "Epoch: 10/20 | Batch 800/843 | Loss: 0.1418\n",
      "Epoch: 10/20 | Train: 98.26% | Validation: 97.75%\n",
      "Epoch: 11/20 | Batch 0/843 | Loss: 0.2226\n",
      "Epoch: 11/20 | Batch 100/843 | Loss: 0.2085\n",
      "Epoch: 11/20 | Batch 200/843 | Loss: 0.1093\n",
      "Epoch: 11/20 | Batch 300/843 | Loss: 0.1841\n",
      "Epoch: 11/20 | Batch 400/843 | Loss: 0.2012\n",
      "Epoch: 11/20 | Batch 500/843 | Loss: 0.0676\n",
      "Epoch: 11/20 | Batch 600/843 | Loss: 0.1931\n",
      "Epoch: 11/20 | Batch 700/843 | Loss: 0.1500\n",
      "Epoch: 11/20 | Batch 800/843 | Loss: 0.2011\n",
      "Epoch: 11/20 | Train: 98.40% | Validation: 97.80%\n",
      "Epoch: 12/20 | Batch 0/843 | Loss: 0.2021\n",
      "Epoch: 12/20 | Batch 100/843 | Loss: 0.0648\n",
      "Epoch: 12/20 | Batch 200/843 | Loss: 0.1463\n",
      "Epoch: 12/20 | Batch 300/843 | Loss: 0.0701\n",
      "Epoch: 12/20 | Batch 400/843 | Loss: 0.1750\n",
      "Epoch: 12/20 | Batch 500/843 | Loss: 0.1654\n",
      "Epoch: 12/20 | Batch 600/843 | Loss: 0.0297\n",
      "Epoch: 12/20 | Batch 700/843 | Loss: 0.1678\n",
      "Epoch: 12/20 | Batch 800/843 | Loss: 0.2176\n",
      "Epoch: 12/20 | Train: 98.39% | Validation: 97.87%\n",
      "Epoch: 13/20 | Batch 0/843 | Loss: 0.0774\n",
      "Epoch: 13/20 | Batch 100/843 | Loss: 0.3769\n",
      "Epoch: 13/20 | Batch 200/843 | Loss: 0.2732\n",
      "Epoch: 13/20 | Batch 300/843 | Loss: 0.1013\n",
      "Epoch: 13/20 | Batch 400/843 | Loss: 0.1472\n",
      "Epoch: 13/20 | Batch 500/843 | Loss: 0.0870\n",
      "Epoch: 13/20 | Batch 600/843 | Loss: 0.0899\n",
      "Epoch: 13/20 | Batch 700/843 | Loss: 0.0685\n",
      "Epoch: 13/20 | Batch 800/843 | Loss: 0.2597\n",
      "Epoch: 13/20 | Train: 98.53% | Validation: 97.87%\n",
      "Epoch: 14/20 | Batch 0/843 | Loss: 0.1738\n",
      "Epoch: 14/20 | Batch 100/843 | Loss: 0.0866\n",
      "Epoch: 14/20 | Batch 200/843 | Loss: 0.1320\n",
      "Epoch: 14/20 | Batch 300/843 | Loss: 0.2529\n",
      "Epoch: 14/20 | Batch 400/843 | Loss: 0.1732\n",
      "Epoch: 14/20 | Batch 500/843 | Loss: 0.0818\n",
      "Epoch: 14/20 | Batch 600/843 | Loss: 0.2083\n",
      "Epoch: 14/20 | Batch 700/843 | Loss: 0.2153\n",
      "Epoch: 14/20 | Batch 800/843 | Loss: 0.0784\n",
      "Epoch: 14/20 | Train: 98.53% | Validation: 97.78%\n",
      "Epoch: 15/20 | Batch 0/843 | Loss: 0.2691\n",
      "Epoch: 15/20 | Batch 100/843 | Loss: 0.1775\n",
      "Epoch: 15/20 | Batch 200/843 | Loss: 0.1388\n",
      "Epoch: 15/20 | Batch 300/843 | Loss: 0.2376\n",
      "Epoch: 15/20 | Batch 400/843 | Loss: 0.2536\n",
      "Epoch: 15/20 | Batch 500/843 | Loss: 0.1084\n",
      "Epoch: 15/20 | Batch 600/843 | Loss: 0.1684\n",
      "Epoch: 15/20 | Batch 700/843 | Loss: 0.0446\n",
      "Epoch: 15/20 | Batch 800/843 | Loss: 0.1320\n",
      "Epoch: 15/20 | Train: 98.65% | Validation: 98.12%\n",
      "Epoch: 16/20 | Batch 0/843 | Loss: 0.0621\n",
      "Epoch: 16/20 | Batch 100/843 | Loss: 0.1589\n",
      "Epoch: 16/20 | Batch 200/843 | Loss: 0.1389\n",
      "Epoch: 16/20 | Batch 300/843 | Loss: 0.0531\n",
      "Epoch: 16/20 | Batch 400/843 | Loss: 0.1315\n",
      "Epoch: 16/20 | Batch 500/843 | Loss: 0.0902\n",
      "Epoch: 16/20 | Batch 600/843 | Loss: 0.3348\n",
      "Epoch: 16/20 | Batch 700/843 | Loss: 0.1812\n",
      "Epoch: 16/20 | Batch 800/843 | Loss: 0.2804\n",
      "Epoch: 16/20 | Train: 98.71% | Validation: 98.03%\n",
      "Epoch: 17/20 | Batch 0/843 | Loss: 0.1917\n",
      "Epoch: 17/20 | Batch 100/843 | Loss: 0.2288\n",
      "Epoch: 17/20 | Batch 200/843 | Loss: 0.1351\n",
      "Epoch: 17/20 | Batch 300/843 | Loss: 0.2514\n",
      "Epoch: 17/20 | Batch 400/843 | Loss: 0.1489\n",
      "Epoch: 17/20 | Batch 500/843 | Loss: 0.1074\n",
      "Epoch: 17/20 | Batch 600/843 | Loss: 0.2197\n",
      "Epoch: 17/20 | Batch 700/843 | Loss: 0.2599\n",
      "Epoch: 17/20 | Batch 800/843 | Loss: 0.0950\n",
      "Epoch: 17/20 | Train: 98.66% | Validation: 97.82%\n",
      "Epoch: 18/20 | Batch 0/843 | Loss: 0.2430\n",
      "Epoch: 18/20 | Batch 100/843 | Loss: 0.1294\n",
      "Epoch: 18/20 | Batch 200/843 | Loss: 0.1666\n",
      "Epoch: 18/20 | Batch 300/843 | Loss: 0.1663\n",
      "Epoch: 18/20 | Batch 400/843 | Loss: 0.1484\n",
      "Epoch: 18/20 | Batch 500/843 | Loss: 0.1951\n",
      "Epoch: 18/20 | Batch 600/843 | Loss: 0.2645\n",
      "Epoch: 18/20 | Batch 700/843 | Loss: 0.1204\n",
      "Epoch: 18/20 | Batch 800/843 | Loss: 0.0998\n",
      "Epoch: 18/20 | Train: 98.77% | Validation: 98.05%\n",
      "Epoch: 19/20 | Batch 0/843 | Loss: 0.1229\n",
      "Epoch: 19/20 | Batch 100/843 | Loss: 0.1217\n",
      "Epoch: 19/20 | Batch 200/843 | Loss: 0.1556\n",
      "Epoch: 19/20 | Batch 300/843 | Loss: 0.0208\n",
      "Epoch: 19/20 | Batch 400/843 | Loss: 0.1136\n",
      "Epoch: 19/20 | Batch 500/843 | Loss: 0.2705\n",
      "Epoch: 19/20 | Batch 600/843 | Loss: 0.1293\n",
      "Epoch: 19/20 | Batch 700/843 | Loss: 0.1642\n",
      "Epoch: 19/20 | Batch 800/843 | Loss: 0.1705\n",
      "Epoch: 19/20 | Train: 98.82% | Validation: 97.85%\n",
      "Epoch: 20/20 | Batch 0/843 | Loss: 0.0761\n",
      "Epoch: 20/20 | Batch 100/843 | Loss: 0.0667\n",
      "Epoch: 20/20 | Batch 200/843 | Loss: 0.0928\n",
      "Epoch: 20/20 | Batch 300/843 | Loss: 0.2671\n",
      "Epoch: 20/20 | Batch 400/843 | Loss: 0.0700\n",
      "Epoch: 20/20 | Batch 500/843 | Loss: 0.2189\n",
      "Epoch: 20/20 | Batch 600/843 | Loss: 0.0375\n",
      "Epoch: 20/20 | Batch 700/843 | Loss: 0.0179\n",
      "Epoch: 20/20 | Batch 800/843 | Loss: 0.0740\n",
      "Epoch: 20/20 | Train: 98.86% | Validation: 98.00%\n",
      "Total Training Time: 11.04 min\n",
      "Test accuracy: 97.73%\n"
     ]
    }
   ],
   "source": [
    "# Initialize lists to store training metrics\n",
    "minibatch_loss_list, train_acc_list, valid_acc_list = [], [], []\n",
    "\n",
    "# Record the starting time\n",
    "start_time = time.time()\n",
    "\n",
    "# Iterate over the specified number of epochs\n",
    "for epoch in range(NUM_EPOCHS):\n",
    "    # Set the model to training mode\n",
    "    model.train()\n",
    "    \n",
    "    # Iterate over the training data loader\n",
    "    for batch_idx, (features, targets) in enumerate(train_loader):\n",
    "        # Move features and targets to the specified device (e.g., GPU or CPU)\n",
    "        features = features.to(DEVICE)\n",
    "        targets = targets.to(DEVICE)\n",
    "        \n",
    "        # Forward pass: compute logits (predictions) using the model\n",
    "        logits = model(features)\n",
    "        \n",
    "        # Compute the loss using the specified loss function (criterion)\n",
    "        loss = criterion(logits, targets)\n",
    "        \n",
    "        # Zero the gradients (reset gradients to zero) to prevent accumulation\n",
    "        optimizer.zero_grad()\n",
    "        \n",
    "        # Backward pass: compute gradients of the loss with respect to model parameters\n",
    "        loss.backward()\n",
    "        \n",
    "        # Update model parameters (weights and biases) using the specified optimizer\n",
    "        optimizer.step()\n",
    "        \n",
    "        # Log the minibatch loss\n",
    "        minibatch_loss_list.append(loss.item())\n",
    "        \n",
    "        # Print training progress periodically\n",
    "        logging_interval = 100\n",
    "        if not batch_idx % logging_interval:\n",
    "            print(f'Epoch: {epoch+1}/{NUM_EPOCHS} | Batch {batch_idx}/{len(train_loader)} | Loss: {loss:.4f}')\n",
    "    \n",
    "    # Set the model to evaluation mode (no gradient computation)\n",
    "    model.eval()\n",
    "    \n",
    "    # Compute accuracy on training and validation datasets\n",
    "    with torch.no_grad(): # Disable gradient computation to save memory during inference\n",
    "        train_acc = compute_accuracy(train_loader)\n",
    "        valid_acc = compute_accuracy(valid_loader)\n",
    "        \n",
    "        # Print training and validation accuracy for the current epoch\n",
    "        print(f'Epoch: {epoch+1}/{NUM_EPOCHS} | Train: {train_acc:.2f}% | Validation: {valid_acc:.2f}%')\n",
    "        \n",
    "        # Store training and validation accuracy for visualization\n",
    "        train_acc_list.append(train_acc.item())\n",
    "        valid_acc_list.append(valid_acc.item())\n",
    "    \n",
    "    # Adjust the learning rate based on the last minibatch loss\n",
    "    scheduler.step(minibatch_loss_list[-1])\n",
    "\n",
    "# Calculate the total training time\n",
    "elapsed = (time.time() - start_time) / 60\n",
    "print(f'Total Training Time: {elapsed:.2f} min')\n",
    "\n",
    "# Compute accuracy on the test dataset\n",
    "test_acc = compute_accuracy(test_loader)\n",
    "print(f'Test accuracy: {test_acc:.2f}%')\n"
   ]
  },
  {
   "attachments": {},
   "cell_type": "markdown",
   "metadata": {},
   "source": [
    "#### Visualization "
   ]
  },
  {
   "cell_type": "code",
   "execution_count": 49,
   "metadata": {},
   "outputs": [
    {
     "data": {
      "text/plain": [
       "Text(0, 0.5, 'Loss')"
      ]
     },
     "execution_count": 49,
     "metadata": {},
     "output_type": "execute_result"
    },
    {
     "data": {
      "image/png": "[encoded data removed]",
      "text/plain": [
       "<Figure size 640x480 with 1 Axes>"
      ]
     },
     "metadata": {},
     "output_type": "display_data"
    }
   ],
   "source": [
    "plt.plot(range(len(minibatch_loss_list)), minibatch_loss_list)\n",
    "plt.xlabel('Iterations')\n",
    "plt.ylabel('Loss')"
   ]
  },
  {
   "cell_type": "code",
   "execution_count": 50,
   "metadata": {},
   "outputs": [
    {
     "data": {
      "text/plain": [
       "<matplotlib.legend.Legend at 0x7fc60ecf9b10>"
      ]
     },
     "execution_count": 50,
     "metadata": {},
     "output_type": "execute_result"
    },
    {
     "data": {
      "image/png": "[encoded data removed]",
      "text/plain": [
       "<Figure size 640x480 with 1 Axes>"
      ]
     },
     "metadata": {},
     "output_type": "display_data"
    }
   ],
   "source": [
    "\n",
    "# Calculate the number of epochs based on the length of the training accuracy list\n",
    "num_epochs = len(train_acc_list)\n",
    "\n",
    "# Plot the training and validation accuracy curves\n",
    "plt.plot(np.arange(1, num_epochs+1),    # x-axis: epoch numbers\n",
    "         train_acc_list,                 # y-axis: training accuracy\n",
    "         label='Training')              # label for the training curve\n",
    "\n",
    "plt.plot(np.arange(1, num_epochs+1),    # x-axis: epoch numbers\n",
    "         valid_acc_list,                 # y-axis: validation accuracy\n",
    "         label='Validation')            # label for the validation curve\n",
    "\n",
    "# Set labels for the x-axis and y-axis\n",
    "plt.xlabel('Epoch')\n",
    "plt.ylabel('Accuracy')\n",
    "\n",
    "# Display legend to differentiate between training and validation curves\n",
    "plt.legend()\n"
   ]
  }
 ],
 "metadata": {
  "kernelspec": {
   "display_name": "base",
   "language": "python",
   "name": "python3"
  },
  "language_info": {
   "codemirror_mode": {
    "name": "ipython",
    "version": 3
   },
   "file_extension": ".py",
   "mimetype": "text/x-python",
   "name": "python",
   "nbconvert_exporter": "python",
   "pygments_lexer": "ipython3",
   "version": "3.10.9"
  },
  "orig_nbformat": 4
 },
 "nbformat": 4,
 "nbformat_minor": 2
}
