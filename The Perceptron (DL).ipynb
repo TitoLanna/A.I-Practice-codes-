{
 "cells": [
  {
   "cell_type": "markdown",
   "id": "986addb6-a39e-4558-878f-e4645be6386e",
   "metadata": {},
   "source": [
    "## The Percepton \n",
    "Using Python Classes"
   ]
  },
  {
   "cell_type": "code",
   "execution_count": 1,
   "id": "d334c1f7-b78e-49b7-8c23-c8fbdd54d834",
   "metadata": {
    "tags": []
   },
   "outputs": [],
   "source": [
    "import numpy as np\n",
    "import matplotlib.pyplot as plt"
   ]
  },
  {
   "cell_type": "code",
   "execution_count": 2,
   "id": "a40a8b70-d056-48db-8294-e457c51d0853",
   "metadata": {
    "tags": []
   },
   "outputs": [],
   "source": [
    "x1 = np.array([0., 0., 1., 1.], dtype = np.float32)\n",
    "x2 = np.array([0., 1., 0., 1.], dtype = np.float32)"
   ]
  },
  {
   "cell_type": "markdown",
   "id": "311498c8-07f5-4889-8cf4-7790d243dc35",
   "metadata": {},
   "source": [
    "`What is the dot after 0` \\\n",
    "`What is a floating pont number?`\\\n",
    "`If you don't care about precision and space you can use the 32 bit float`\n"
   ]
  },
  {
   "cell_type": "code",
   "execution_count": 3,
   "id": "9f8d60fc-1f1d-443d-ab74-53677a082acb",
   "metadata": {},
   "outputs": [],
   "source": [
    "y = np.array([0,0,0,1], dtype = int)"
   ]
  },
  {
   "cell_type": "markdown",
   "id": "c8c90c55-dee5-4cf3-a221-1ba10802e1bf",
   "metadata": {},
   "source": [
    "`The 0 with no decimal means integer`"
   ]
  },
  {
   "cell_type": "code",
   "execution_count": 4,
   "id": "e6928135-04a2-41c5-bdd2-b4c93b233990",
   "metadata": {
    "tags": []
   },
   "outputs": [
    {
     "data": {
      "text/plain": [
       "<matplotlib.collections.PathCollection at 0x7fddd7ddb070>"
      ]
     },
     "execution_count": 4,
     "metadata": {},
     "output_type": "execute_result"
    },
    {
     "data": {
      "image/png": "[encoded data removed]",
      "text/plain": [
       "<Figure size 640x480 with 1 Axes>"
      ]
     },
     "metadata": {},
     "output_type": "display_data"
    }
   ],
   "source": [
    "import matplotlib.pyplot as plt\n",
    "plt.scatter(x1, x2, c=y)"
   ]
  },
  {
   "cell_type": "code",
   "execution_count": 5,
   "id": "edc44047-ce50-4566-a2fb-a999f52fa7ad",
   "metadata": {
    "tags": []
   },
   "outputs": [],
   "source": [
    "# Repeat the numbers from x1, x2 and y 50 times each\n",
    "# For example for x1, each element of x1 will be repeated 50 times, so there will be 200 sample points at the end of it\n",
    "x1 = np.repeat(x1, 50) # This is a vector/aray\n",
    "x2 = np.repeat(x2, 50) # This is a vector/aray\n",
    "y = np.repeat(y, 50) # This is a vector/aray"
   ]
  },
  {
   "cell_type": "code",
   "execution_count": 6,
   "id": "22bc7f9a-aeb8-451d-9e68-e40e01ef6453",
   "metadata": {
    "tags": []
   },
   "outputs": [
    {
     "data": {
      "text/plain": [
       "array([3.17960069e-02, 9.33730184e-03, 7.35714617e-03, 2.39947814e-02,\n",
       "       2.49041825e-02, 1.54578967e-02, 1.56823797e-02, 5.79864795e-03,\n",
       "       4.55058904e-02, 9.29432795e-03, 1.21978461e-02, 2.89389814e-02,\n",
       "       2.17642185e-02, 2.45669797e-02, 2.13373589e-03, 2.39244741e-02,\n",
       "       4.01636406e-02, 2.15993246e-02, 2.44975445e-02, 3.06881563e-02,\n",
       "       8.02284393e-03, 6.41781520e-03, 4.45263833e-02, 6.60841409e-03,\n",
       "       1.09143460e-02, 4.17935796e-02, 1.04921334e-02, 1.34161527e-02,\n",
       "       2.34622970e-02, 2.70199124e-02, 3.97371473e-02, 9.13180008e-04,\n",
       "       3.58549097e-02, 2.04508410e-03, 3.52963530e-02, 2.11407995e-02,\n",
       "       2.12264283e-02, 3.84783335e-02, 1.57215290e-02, 4.21295914e-02,\n",
       "       1.70452318e-02, 9.19111974e-03, 8.54003548e-03, 3.00782660e-02,\n",
       "       1.85962472e-02, 4.41079623e-02, 4.72695740e-02, 1.04358400e-02,\n",
       "       3.73039248e-02, 3.83621635e-02, 2.16379162e-02, 3.69165356e-02,\n",
       "       3.49489018e-02, 7.50779615e-03, 3.15369328e-02, 2.72495255e-02,\n",
       "       4.68585727e-02, 4.72909022e-02, 2.16091152e-02, 4.52206624e-02,\n",
       "       3.92851300e-02, 4.48487765e-02, 4.25881859e-02, 2.72476749e-02,\n",
       "       2.63928264e-02, 5.05681296e-03, 9.90750743e-03, 3.81466621e-02,\n",
       "       3.53323342e-02, 4.81510792e-02, 2.08296387e-02, 3.27100118e-02,\n",
       "       6.02996951e-03, 2.71957847e-02, 2.84787383e-02, 3.69258018e-02,\n",
       "       2.01656008e-03, 2.07770746e-02, 2.17138461e-02, 3.74595374e-02,\n",
       "       4.53692029e-02, 4.03222040e-02, 1.52521270e-02, 1.25776297e-02,\n",
       "       4.67832467e-02, 2.13843342e-02, 1.66584456e-02, 2.92909053e-03,\n",
       "       4.21882656e-02, 9.38895266e-03, 2.61045276e-02, 2.11725209e-03,\n",
       "       3.55768449e-04, 1.27888036e-02, 2.92766692e-02, 4.08643393e-03,\n",
       "       4.27614768e-02, 3.76916289e-02, 4.54472445e-05, 3.51762554e-02,\n",
       "       1.00427318e+00, 1.04687726e+00, 1.00724969e+00, 1.03355637e+00,\n",
       "       1.01485494e+00, 1.04365333e+00, 1.04027020e+00, 1.03498794e+00,\n",
       "       1.00299562e+00, 1.01572891e+00, 1.04147339e+00, 1.00500294e+00,\n",
       "       1.04103769e+00, 1.00683829e+00, 1.03385857e+00, 1.01791648e+00,\n",
       "       1.04928833e+00, 1.02671827e+00, 1.01992550e+00, 1.03380216e+00,\n",
       "       1.04457564e+00, 1.02519778e+00, 1.02728328e+00, 1.02962743e+00,\n",
       "       1.03650230e+00, 1.02722705e+00, 1.02072503e+00, 1.04372543e+00,\n",
       "       1.02046023e+00, 1.00501659e+00, 1.00885390e+00, 1.02760560e+00,\n",
       "       1.04881480e+00, 1.01158025e+00, 1.03057291e+00, 1.04632059e+00,\n",
       "       1.00953311e+00, 1.04384713e+00, 1.04998429e+00, 1.03602222e+00,\n",
       "       1.03412924e+00, 1.01765149e+00, 1.04201831e+00, 1.01264171e+00,\n",
       "       1.02219130e+00, 1.00778873e+00, 1.01093886e+00, 1.04746876e+00,\n",
       "       1.02065460e+00, 1.00898463e+00, 1.04679204e+00, 1.00733108e+00,\n",
       "       1.01305499e+00, 1.03706147e+00, 1.01611047e+00, 1.03327593e+00,\n",
       "       1.04768074e+00, 1.01817027e+00, 1.04617318e+00, 1.01892159e+00,\n",
       "       1.01951934e+00, 1.03236602e+00, 1.01559085e+00, 1.03975590e+00,\n",
       "       1.00864622e+00, 1.03772488e+00, 1.00619151e+00, 1.02935458e+00,\n",
       "       1.01928863e+00, 1.00103612e+00, 1.04216113e+00, 1.04910786e+00,\n",
       "       1.01813298e+00, 1.02353742e+00, 1.01203600e+00, 1.01579361e+00,\n",
       "       1.02392171e+00, 1.01407461e+00, 1.04142904e+00, 1.03281911e+00,\n",
       "       1.00842124e+00, 1.04203386e+00, 1.00029137e+00, 1.00640517e+00,\n",
       "       1.04622942e+00, 1.02778135e+00, 1.04303567e+00, 1.02568655e+00,\n",
       "       1.03735537e+00, 1.00213488e+00, 1.03132734e+00, 1.03609917e+00,\n",
       "       1.02803932e+00, 1.04344116e+00, 1.00752153e+00, 1.04133892e+00,\n",
       "       1.04868652e+00, 1.03796082e+00, 1.00446546e+00, 1.01212732e+00])"
      ]
     },
     "execution_count": 6,
     "metadata": {},
     "output_type": "execute_result"
    }
   ],
   "source": [
    "# Add random noise to data points\n",
    "\n",
    "\n",
    "x1 = x1 + np.random.rand(x1.shape[0])*0.05\n",
    "x2 = x2 + np.random.rand(x2.shape[0])*0.05\n",
    "\n",
    "x1"
   ]
  },
  {
   "cell_type": "code",
   "execution_count": 7,
   "id": "95961569-17d6-4614-8242-61bbb752fe8d",
   "metadata": {
    "tags": []
   },
   "outputs": [
    {
     "data": {
      "text/plain": [
       "<matplotlib.collections.PathCollection at 0x7fddd7ef32e0>"
      ]
     },
     "execution_count": 7,
     "metadata": {},
     "output_type": "execute_result"
    },
    {
     "data": {
      "image/png": "[encoded data removed]",
      "text/plain": [
       "<Figure size 640x480 with 1 Axes>"
      ]
     },
     "metadata": {},
     "output_type": "display_data"
    }
   ],
   "source": [
    "plt.scatter(x1, x2, c = y)"
   ]
  },
  {
   "cell_type": "code",
   "execution_count": 8,
   "id": "d12fc99a-2a80-4eb5-bb26-89eb0f904911",
   "metadata": {
    "tags": []
   },
   "outputs": [],
   "source": [
    "# Combine x1 and x2\n",
    "X = np.column_stack((x1, x2))"
   ]
  },
  {
   "cell_type": "code",
   "execution_count": 9,
   "id": "dd297800-aa57-4109-b592-9c6903bceb98",
   "metadata": {
    "tags": []
   },
   "outputs": [
    {
     "name": "stdout",
     "output_type": "stream",
     "text": [
      "X shape:  (200, 2)\n",
      "y shape:  (200,)\n"
     ]
    }
   ],
   "source": [
    "print('X shape: ', X.shape)\n",
    "print('y shape: ', y.shape)"
   ]
  },
  {
   "cell_type": "code",
   "execution_count": 10,
   "id": "ea1645c1-dca8-4c42-a3e0-bbaaeb061d1d",
   "metadata": {
    "tags": []
   },
   "outputs": [],
   "source": [
    "# Diffusion\n",
    "# We need to shuffle the index\n",
    "# Generate indexes from 0 to 199\n",
    "shuffle_idx = np.arange(y.shape[0])"
   ]
  },
  {
   "cell_type": "code",
   "execution_count": 11,
   "id": "a96a2b35-72c0-477a-84c9-2d52eab798f6",
   "metadata": {
    "tags": []
   },
   "outputs": [
    {
     "name": "stdout",
     "output_type": "stream",
     "text": [
      "Shuffled indices:  [ 95  15  30 158 128 115  69 170 174  45  66 182 165  78 186 177  56 152\n",
      "  82  68 124  16 148  93  65  60  84  67 125 132   9  18  55  75 150 104\n",
      " 135 137 164  76  79 197  38  24 122 195  29  19 143  86 114 173   5 126\n",
      " 117  73 140  98 172  96 169  97  31  12  35 119  42 189  90 136  51 127\n",
      " 162  41 118 113  26 139 100 111   2  77  46 187 191  85 161  36 190  61\n",
      "  22 141 101  33  11 194 159   6  27 120   4  32 142 145 109 144  10  62\n",
      " 112 146 166   0 198 153  70 123  64  44 163  28  40 108 155 156  25  23\n",
      " 184 147  81  39 168  47  94 154  43 138   3 105  53 133 180 178 185  49\n",
      "  80  34   7 110  91  83 176 181  89   8  13  59 171 131  17  72 175 134\n",
      " 167 183  63  54 107  50 196  58  48  88  21  57 160 192 129  37 157 193\n",
      "   1  52 149 130 151 103  99 116  87  74 121 199  20 188  71 106  14  92\n",
      " 179 102]\n"
     ]
    }
   ],
   "source": [
    "# Random number generator with a seed\n",
    "# It is not trully random, but just a pseudo-random\n",
    "shuffle_rng = np.random.RandomState(42)\n",
    "shuffle_rng.shuffle(shuffle_idx)\n",
    "\n",
    "print('Shuffled indices: ', shuffle_idx)"
   ]
  },
  {
   "cell_type": "code",
   "execution_count": 12,
   "id": "403ff8b6-a594-4d01-a661-96be12e5f1db",
   "metadata": {
    "tags": []
   },
   "outputs": [],
   "source": [
    "X, y = X[shuffle_idx], y[shuffle_idx]\n",
    "# ???? What does this syntax do\n",
    "\n",
    "split_point = int(0.7 * X.shape[0])\n",
    "\n",
    "X_train, X_test = X[shuffle_idx[:split_point]], X[shuffle_idx[split_point:]] \n",
    "# ??? What is this colon notation\n",
    "y_train, y_test = y[shuffle_idx[:split_point]], y[shuffle_idx[split_point:]]"
   ]
  },
  {
   "cell_type": "code",
   "execution_count": 13,
   "id": "778216d5-5f59-456f-bc26-f6355a497c6c",
   "metadata": {
    "tags": []
   },
   "outputs": [
    {
     "name": "stdout",
     "output_type": "stream",
     "text": [
      "zero mean:  [0.4900251  0.53236924]\n",
      "unit variance(standard deviation):  [0.49955302 0.49871098]\n"
     ]
    }
   ],
   "source": [
    "# Normalisation (zero mean, unit variance)\n",
    "# When axis is 0, you are doing an operation across rows. When doing axis = 1, it is an operation across columns\n",
    "# We only need the mean and variance for the training data set because is the one used by the machine to learn\n",
    "mu = X_train.mean(axis = 0)\n",
    "sigma = X_train.std(axis = 0)\n",
    "\n",
    "print('zero mean: ', mu)\n",
    "print('unit variance(standard deviation): ', sigma)\n",
    "\n",
    "X_train = (X_train - mu) /sigma\n",
    "X_test = (X_test - mu) /sigma"
   ]
  },
  {
   "cell_type": "code",
   "execution_count": 14,
   "id": "6715cec3-e059-4a51-87a2-418062cff355",
   "metadata": {
    "tags": []
   },
   "outputs": [
    {
     "data": {
      "text/plain": [
       "array([[0.],\n",
       "       [0.],\n",
       "       [0.]])"
      ]
     },
     "execution_count": 14,
     "metadata": {},
     "output_type": "execute_result"
    }
   ],
   "source": [
    "np.zeros((3,1), dtype = float)"
   ]
  },
  {
   "cell_type": "code",
   "execution_count": 30,
   "id": "284dbad6-1686-4e07-bfcc-4b2a2b179418",
   "metadata": {
    "tags": []
   },
   "outputs": [],
   "source": [
    "class Perceptron():\n",
    "    def __init__(self, num_features):\n",
    "        self.num_features = num_features\n",
    "        self.weights = np.zeros((num_features, 1), dtype = float)\n",
    "        self.bias = np.zeros((1,), dtype = float)\n",
    "   \n",
    " # A foward pass is when you pass a neuron /perceptron some input and compute your output\n",
    "    def forward(self,x):\n",
    "        linear = np.dot(x,self.weights) + self.bias\n",
    "        predictions = np.where(linear > 0., 1, 0)\n",
    "        return predictions\n",
    "       #Start from the ouput go back to the input \n",
    "    def backward(self,x,y):\n",
    "        predictions = self.forward(x)\n",
    "        errors=y - predictions\n",
    "        return errors\n",
    "    \n",
    "    def train(self,x,y,epochs):\n",
    "        for e in range (epochs):\n",
    "            for i in range(y.shape[0]):\n",
    "                errors  = self.backward(x[i].reshape(1,self.num_features) ,y[i]).reshape(-1)\n",
    "                self.weights += (errors*x[i]).reshape(self.num_features,1)\n",
    "                self.bias= errors * 1\n",
    "                \n",
    "    #Evaluation\n",
    "    def evaluate(self,x,y):\n",
    "        predictions = self.forward(x).reshape(-1)\n",
    "        accuracy = np.sum(prediction == y)/ y.shape[0]\n",
    "        return accuracy\n",
    "        \n",
    "                "
   ]
  },
  {
   "cell_type": "code",
   "execution_count": 31,
   "id": "2738d29a-b9cb-41a1-ad8c-69285beec110",
   "metadata": {},
   "outputs": [],
   "source": [
    "ppn = Perceptron(num_features = 2)\n",
    "\n",
    "ppn.train(X_train,y_train, epochs = 5)"
   ]
  },
  {
   "cell_type": "code",
   "execution_count": 32,
   "id": "761fc123",
   "metadata": {},
   "outputs": [
    {
     "name": "stdout",
     "output_type": "stream",
     "text": [
      "Model parameters: \n",
      "Weights: [[0.88756605]\n",
      " [1.83900746]]\n",
      "Bias [0]\n"
     ]
    }
   ],
   "source": [
    "print('Model parameters: ')\n",
    "print('Weights:', ppn.weights)\n",
    "print('Bias', ppn.bias)"
   ]
  },
  {
   "cell_type": "code",
   "execution_count": null,
   "id": "6012df41",
   "metadata": {},
   "outputs": [],
   "source": []
  }
 ],
 "metadata": {
  "kernelspec": {
   "display_name": "Python 3 (ipykernel)",
   "language": "python",
   "name": "python3"
  },
  "language_info": {
   "codemirror_mode": {
    "name": "ipython",
    "version": 3
   },
   "file_extension": ".py",
   "mimetype": "text/x-python",
   "name": "python",
   "nbconvert_exporter": "python",
   "pygments_lexer": "ipython3",
   "version": "3.10.9"
  }
 },
 "nbformat": 4,
 "nbformat_minor": 5
}
